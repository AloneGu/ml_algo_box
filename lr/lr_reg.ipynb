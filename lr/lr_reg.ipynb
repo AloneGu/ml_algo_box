{
 "cells": [
  {
   "cell_type": "code",
   "execution_count": 133,
   "metadata": {
    "collapsed": false
   },
   "outputs": [
    {
     "name": "stdout",
     "output_type": "stream",
     "text": [
      "(500, 1) (500, 1)\n"
     ]
    },
    {
     "data": {
      "image/png": "[encoded data removed]",
      "text/plain": [
       "<matplotlib.figure.Figure at 0x7f02cc593fd0>"
      ]
     },
     "metadata": {},
     "output_type": "display_data"
    },
    {
     "name": "stdout",
     "output_type": "stream",
     "text": [
      "(375, 1) (125, 1) (375, 1) (125, 1)\n",
      "[[ 0.06445777]\n",
      " [ 0.09168614]\n",
      " [ 0.00546929]\n",
      " [ 0.47722276]\n",
      " [ 0.71581006]]\n",
      "[[ 0.62328734]\n",
      " [ 0.67918856]\n",
      " [ 0.48833273]\n",
      " [ 1.45416072]\n",
      " [ 1.92856295]]\n"
     ]
    }
   ],
   "source": [
    "import numpy as np\n",
    "%matplotlib inline\n",
    "import matplotlib.pyplot as plt\n",
    "from sklearn.model_selection import train_test_split\n",
    "\n",
    "x_data = np.random.rand(500,1)\n",
    "y_data = x_data*2 + np.random.randn(500,1)*0.01+0.5\n",
    "print(x_data.shape,y_data.shape)\n",
    "plt.figure(figsize=(12,4))\n",
    "plt.grid()\n",
    "plt.scatter(x_data,y_data)\n",
    "plt.show()\n",
    "X_train, X_test, y_train, y_test = train_test_split(x_data, y_data)\n",
    "print(X_train.shape,X_test.shape,y_train.shape,y_test.shape)\n",
    "print(X_train[:5])\n",
    "print(y_train[:5])"
   ]
  },
  {
   "cell_type": "code",
   "execution_count": 134,
   "metadata": {
    "collapsed": false
   },
   "outputs": [
    {
     "name": "stdout",
     "output_type": "stream",
     "text": [
      "(375, 1) (375, 1)\n",
      "[[-0.99371069]] -1.56060939742 [[ 0.04968553]] 0.0780304698709 2.76905686039\n",
      "[[-0.10256083]] -0.0156158119371 [[ 0.87378171]] 1.08534418508 0.107260416273\n",
      "[[-0.0615595]] 0.0323013296299 [[ 1.05938646]] 1.03139896758 0.0756023179967\n",
      "[[-0.05155417]] 0.0291044955168 [[ 1.19959956]] 0.95377680735 0.0549094446597\n",
      "[[-0.04389453]] 0.024852803694 [[ 1.31844296]] 0.886541711967 0.0398901459592\n",
      "[[-0.03739833]] 0.0211772120027 [[ 1.41967937]] 0.829217337346 0.0289868422304\n",
      "[[-0.03186442]] 0.0180436614933 [[ 1.50593496]] 0.780373993573 0.0210715546572\n",
      "[[-0.0271494]] 0.0153737222225 [[ 1.57942719]] 0.738758010225 0.0153254267904\n",
      "[[-0.02313207]] 0.0130988547526 [[ 1.64204469]] 0.703299990719 0.0111540072233\n",
      "[[-0.01970919]] 0.0111606019898 [[ 1.6953966]] 0.673088735525 0.00812575209075\n",
      "[[-0.0167928]] 0.00950915473902 [[ 1.74085397]] 0.647347874881 0.0059273807689\n",
      "[[-0.01430795]] 0.00810207405765 [[ 1.77958495]] 0.625415919311 0.00433146620516\n",
      "final param [[ 1.81197533]] 0.60707442074\n",
      "test mae 0.015617204875\n",
      "[[ 1.34508969  2.39681389  1.84000826  0.99959782  1.3844191 ]]\n",
      "[[ 1.32020336  2.46434717  1.86976827  0.93339759  1.37306989]]\n",
      "------------------\n",
      "(375, 1) (375, 1)\n",
      "(375, 2)\n",
      "(2, 1)\n",
      "final param [[ 2.00260083]] 0.499130105988\n",
      "test mae 0.000239919551019\n",
      "[[ 1.3147869   2.47715579  1.86177246  0.9329482   1.35825389]]\n",
      "[[ 1.32020336  2.46434717  1.86976827  0.93339759  1.37306989]]\n"
     ]
    }
   ],
   "source": [
    "# ref https://github.com/zotroneneis/machine_learning_basics/blob/master/linear_regression.ipynb\n",
    "class LinearRegression(object):\n",
    "    def __init__(self,max_iter=100,opt='grad',lr=0.05):\n",
    "        self.max_iter = max_iter\n",
    "        self.opt = opt\n",
    "        self.coef = None\n",
    "        self.bias = None\n",
    "        self.lr_rate = lr\n",
    "    \n",
    "    def fit(self,x,y):\n",
    "        print(x.shape,y.shape)\n",
    "        loss = []\n",
    "        data_cnt = len(y)\n",
    "        if self.opt == 'grad':\n",
    "            # init param\n",
    "            self.coef = np.zeros((x.shape[1],1))\n",
    "            self.bias = 0\n",
    "            for i in range(self.max_iter):\n",
    "                # current pred\n",
    "                y_pred = np.dot(x,self.coef) + self.bias\n",
    "                \n",
    "                # current loss\n",
    "                curr_loss = np.mean((y_pred-y)**2)\n",
    "                loss.append(curr_loss)\n",
    "                \n",
    "                # grad\n",
    "                w_grad = np.dot(x.T,y_pred-y) / data_cnt\n",
    "                b_grad = np.sum((y_pred-y)) / data_cnt\n",
    "                \n",
    "                # update param\n",
    "                self.coef = self.coef - self.lr_rate*w_grad\n",
    "                self.bias = self.bias - self.lr_rate*b_grad  \n",
    "                if i%50 == 0:\n",
    "                    print(w_grad,b_grad,self.coef,self.bias,curr_loss)\n",
    "        else:\n",
    "            # calculate\n",
    "            # ref: https://muxuezi.github.io/posts/2-linear-regression.html\n",
    "            # β=(Xt X)−1 Xt Y\n",
    "            # add 1 at first\n",
    "            tmp_x = np.hstack([np.ones(shape=(x.shape[0],1)),x])\n",
    "            print(tmp_x.shape)\n",
    "            # solve\n",
    "            part_1 = np.linalg.inv(np.dot(tmp_x.T,tmp_x))\n",
    "            part_2 = np.dot(part_1,tmp_x.T)\n",
    "            beta = np.dot(part_2,y)\n",
    "            print(beta.shape)\n",
    "            self.coef = beta[1:]\n",
    "            self.bias = beta[0][0]\n",
    "        print('final param',self.coef,self.bias)\n",
    "    \n",
    "    def predict(self,x):\n",
    "        # list of input\n",
    "        res = []\n",
    "        for tmp_x in x:\n",
    "            tmp_y = np.dot(tmp_x,self.coef) + self.bias\n",
    "            res.append(tmp_y)\n",
    "        return np.array(res)\n",
    "            \n",
    "# test\n",
    "lr_reg = LinearRegression(600,opt='grad')\n",
    "lr_reg.fit(X_train,y_train)\n",
    "y_test_pred = lr_reg.predict(X_test)\n",
    "print('test mae',np.mean(y_test_pred-y_test))\n",
    "print(y_test_pred[:5].T)\n",
    "print(y_test[:5].T)\n",
    "print('------------------')\n",
    "\n",
    "# test\n",
    "lr_reg = LinearRegression(600,opt='cal')\n",
    "lr_reg.fit(X_train,y_train)\n",
    "y_test_pred = lr_reg.predict(X_test)\n",
    "print('test mae',np.mean(y_test_pred-y_test))\n",
    "print(y_test_pred[:5].T)\n",
    "print(y_test[:5].T)"
   ]
  },
  {
   "cell_type": "code",
   "execution_count": 135,
   "metadata": {
    "collapsed": false
   },
   "outputs": [
    {
     "name": "stdout",
     "output_type": "stream",
     "text": [
      "(500, 2) (500, 1)\n",
      "(375, 2) (125, 2) (375, 1) (125, 1)\n",
      "[[ 0.8463573   0.64626625]\n",
      " [ 0.69627229  0.22630233]\n",
      " [ 0.611239    0.51937463]\n",
      " [ 0.8767093   0.65501549]\n",
      " [ 0.2833434   0.77344504]]\n",
      "[[ 4.14088641]\n",
      " [ 2.57248238]\n",
      " [ 3.28556875]\n",
      " [ 4.22656302]\n",
      " [ 3.39096939]]\n"
     ]
    }
   ],
   "source": [
    "# test 2d\n",
    "x_data = np.random.rand(500,2)\n",
    "y_data = x_data[:,0]*2 + x_data[:,1]*3 +0.5\n",
    "y_data = y_data.reshape(-1,1) + np.random.rand(500,1)*0.01\n",
    "print(x_data.shape,y_data.shape)\n",
    "X_train, X_test, y_train, y_test = train_test_split(x_data, y_data)\n",
    "print(X_train.shape,X_test.shape,y_train.shape,y_test.shape)\n",
    "print(X_train[:5])\n",
    "print(y_train[:5])"
   ]
  },
  {
   "cell_type": "code",
   "execution_count": 136,
   "metadata": {
    "collapsed": false
   },
   "outputs": [
    {
     "name": "stdout",
     "output_type": "stream",
     "text": [
      "(375, 2) (375, 1)\n",
      "[[-1.64966097]\n",
      " [-1.7409982 ]] -2.99389799488 [[ 0.08248305]\n",
      " [ 0.08704991]] 0.149694899744 10.0345543726\n",
      "[[-0.07114327]\n",
      " [-0.12697824]] 0.0131861949629 [[ 1.14455868]\n",
      " [ 1.31508464]] 1.78870214559 0.292855821462\n",
      "[[-0.03680839]\n",
      " [-0.08344679]] 0.0616732293188 [[ 1.25852163]\n",
      " [ 1.55626967]] 1.65575774035 0.21938798007\n",
      "[[-0.03233622]\n",
      " [-0.07165553]] 0.0548008362558 [[ 1.34437935]\n",
      " [ 1.74911816]] 1.50982790728 0.166396166096\n",
      "[[-0.02879371]\n",
      " [-0.0619781 ]] 0.0478579452759 [[ 1.42062186]\n",
      " [ 1.91561352]] 1.38186015721 0.126237948627\n",
      "[[-0.02560551]\n",
      " [-0.05363715]] 0.0417760337219 [[ 1.48847203]\n",
      " [ 2.05966826]] 1.27014092329 0.0957940420741\n",
      "[[-0.02273652]\n",
      " [-0.04643657]] 0.0364642512669 [[ 1.548764  ]\n",
      " [ 2.18436043]] 1.17262320462 0.0727074390835\n",
      "[[-0.02016162]\n",
      " [-0.04021729]] 0.0318258181804 [[ 1.60226363]\n",
      " [ 2.2923329 ]] 1.08750752083 0.0551953108491\n",
      "[[-0.01785626]\n",
      " [-0.03484308]] 0.0277757486098 [[ 1.64967472]\n",
      " [ 2.38586087]] 1.01322122067 0.0419083972664\n",
      "[[-0.01579668]\n",
      " [-0.03019703]] 0.0242397115491 [[ 1.69164062]\n",
      " [ 2.46690425]] 0.948390243031 0.0318250670994\n",
      "[[-0.01396024]\n",
      " [-0.02617879]] 0.0211527123827 [[ 1.72874666]\n",
      " [ 2.53715231]] 0.891814192203 0.0241714241718\n",
      "[[-0.01232563]\n",
      " [-0.02270208]] 0.0184579300878 [[ 1.76152323]\n",
      " [ 2.59806185]] 0.842444511093 0.018361004816\n",
      "final param [[ 1.78990561]\n",
      " [ 2.64990519]] 0.800170660362\n",
      "test mae 0.0136550806593\n",
      "[[ 1.6279161   2.88883029  3.97676818  2.75672832  2.10613506]]\n",
      "[[ 1.43627573  2.85312999  4.08425796  2.7034909   1.97527192]]\n",
      "------------------\n",
      "(375, 2) (375, 1)\n",
      "(375, 3)\n",
      "(3, 1)\n",
      "final param [[ 1.99983084]\n",
      " [ 3.0004477 ]] 0.504936650359\n",
      "test mae 2.60661871006e-05\n",
      "[[ 1.43544223  2.85237869  4.08480824  2.69969797  1.97115738]]\n",
      "[[ 1.43627573  2.85312999  4.08425796  2.7034909   1.97527192]]\n"
     ]
    }
   ],
   "source": [
    "# test\n",
    "lr_reg = LinearRegression(600,opt='grad')\n",
    "lr_reg.fit(X_train,y_train)\n",
    "y_test_pred = lr_reg.predict(X_test)\n",
    "print('test mae',np.mean(y_test_pred-y_test))\n",
    "print(y_test_pred[:5].T)\n",
    "print(y_test[:5].T)\n",
    "print('------------------')\n",
    "\n",
    "# test\n",
    "lr_reg = LinearRegression(600,opt='cal')\n",
    "lr_reg.fit(X_train,y_train)\n",
    "y_test_pred = lr_reg.predict(X_test)\n",
    "print('test mae',np.mean(y_test_pred-y_test))\n",
    "print(y_test_pred[:5].T)\n",
    "print(y_test[:5].T)"
   ]
  }
 ],
 "metadata": {
  "kernelspec": {
   "display_name": "Python 3",
   "language": "python",
   "name": "python3"
  },
  "language_info": {
   "codemirror_mode": {
    "name": "ipython",
    "version": 3
   },
   "file_extension": ".py",
   "mimetype": "text/x-python",
   "name": "python",
   "nbconvert_exporter": "python",
   "pygments_lexer": "ipython3",
   "version": "3.5.2"
  }
 },
 "nbformat": 4,
 "nbformat_minor": 1
}
